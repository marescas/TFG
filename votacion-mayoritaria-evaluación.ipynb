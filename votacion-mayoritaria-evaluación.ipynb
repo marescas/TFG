{
 "cells": [
  {
   "cell_type": "code",
   "execution_count": null,
   "metadata": {
    "collapsed": true
   },
   "outputs": [],
   "source": [
    "from sklearn.feature_extraction.text import TfidfVectorizer\n",
    "import pickle\n",
    "import numpy as np\n",
    "from sklearn.linear_model import LogisticRegression\n",
    "from sklearn import svm\n",
    "import math"
   ]
  },
  {
   "cell_type": "code",
   "execution_count": null,
   "metadata": {
    "collapsed": true
   },
   "outputs": [],
   "source": [
    "def openfile(fileName):\n",
    "    \"\"\"\n",
    "    Dado el nombre de un fichero devuelve la representación y las etiquetas\n",
    "    \"\"\"\n",
    "    with open(fileName,\"rb\") as fh:\n",
    "        representacion,etiquetas = pickle.load(fh)\n",
    "    return representacion,etiquetas"
   ]
  },
  {
   "cell_type": "code",
   "execution_count": null,
   "metadata": {},
   "outputs": [],
   "source": [
    "#Cargamos las mejores representaciones de cada\n",
    "ncharTrain,charetiquetasTrain = openfile(\"ncharRepTrain\")\n",
    "ncharTest,charetiquetasTest = openfile(\"ncharRepTest\")\n",
    "print(\"n-gramas CHAR BOW --- OK\")\n",
    "w2vTrain,w2vetiquetasTrain = openfile(\"w2vRepTrain\")\n",
    "w2vTest,w2vetiquetasTest = openfile(\"w2vRepTest\")\n",
    "print(\"W2V REPR ------ OK\")\n",
    "pcarasTrain,pcarasetiquetasTrain = openfile(\"pcarasTrain\")\n",
    "pcarasTest,pcarasetiquetasTest = openfile(\"pcarasTest\")\n",
    "pcarasetiquetasTrain = [-1 if g == \"male\" else 1  for g in pcarasetiquetasTrain]\n",
    "pcarasetiquetasTest = [-1 if g == \"male\" else 1  for g in pcarasetiquetasTest]\n",
    "print(\"Porcentaje de caras de hombres en fotos --- OK\")\n",
    "bovwTrain,bovwetiquetasTrain = openfile(\"bovwRepTrain\")\n",
    "bovwTest,bovwetiquetasTest = openfile(\"bovwRepTest\")\n",
    "bovwetiquetasTrain = [-1 if g == \"male\" else 1  for g in bovwetiquetasTrain]\n",
    "bovwetiquetasTest = [-1 if g == \"male\" else 1  for g in bovwetiquetasTest]\n",
    "print(\"Bag of Visual Words --- OK\")"
   ]
  },
  {
   "cell_type": "code",
   "execution_count": null,
   "metadata": {},
   "outputs": [],
   "source": [
    "#Validamos que las etiquetas esten correctas\n",
    "train = all(a == b == c ==d for a,b,c,d in zip(charetiquetasTrain,w2vetiquetasTrain,pcarasetiquetasTrain,bovwetiquetasTrain))\n",
    "test = all(a == b == c == d for a,b,c,d in zip(charetiquetasTest,w2vetiquetasTest,pcarasetiquetasTest,bovwetiquetasTest))\n",
    "print(\"Train: %r Test: %r \" %(train,test))"
   ]
  },
  {
   "cell_type": "code",
   "execution_count": null,
   "metadata": {},
   "outputs": [],
   "source": [
    "#Entreno modelo Char-ngram\n",
    "nchar_clf = LogisticRegression(C=10)\n",
    "nchar_clf.fit(ncharTrain,charetiquetasTrain)\n",
    "print(\"OK! %.3f\" % nchar_clf.score(ncharTest,charetiquetasTest))"
   ]
  },
  {
   "cell_type": "code",
   "execution_count": null,
   "metadata": {},
   "outputs": [],
   "source": [
    "#Entreno modelo Word2Vec\n",
    "w2v_clf = svm.SVC(C = 1000,kernel=\"linear\")\n",
    "w2v_clf.fit(w2vTrain,w2vetiquetasTrain)\n",
    "print(\"OK! %.3f\" %w2v_clf.score(w2vTest,w2vetiquetasTest))"
   ]
  },
  {
   "cell_type": "code",
   "execution_count": null,
   "metadata": {},
   "outputs": [],
   "source": [
    "#Entreno modelo % hombres en fotos\n",
    "pcaras_clf = svm.SVC(C = 1,kernel=\"rbf\")\n",
    "pcaras_clf.fit(np.array(pcarasTrain).reshape((3000,1)),pcarasetiquetasTrain)\n",
    "print(\"OK! %.3f\" %pcaras_clf.score(np.array(pcarasTest).reshape((2200,1)),pcarasetiquetasTest))"
   ]
  },
  {
   "cell_type": "code",
   "execution_count": null,
   "metadata": {},
   "outputs": [],
   "source": [
    "#Entreno modelo basado en BOVW con VGG y reducida a 20 dimensiones con PCA\n",
    "bovw_clf = LogisticRegression(C=1)\n",
    "bovw_clf.fit(bovwTrain,bovwetiquetasTrain)\n",
    "print(\"OK! %.3f\" % bovw_clf.score(bovwTest,bovwetiquetasTest))"
   ]
  },
  {
   "cell_type": "code",
   "execution_count": null,
   "metadata": {
    "collapsed": true
   },
   "outputs": [],
   "source": [
    "#Construyo una matriz con las predicciones sobre el conjunto de test \n",
    "results = np.zeros((2200,4))\n",
    "results[:,0] = nchar_clf.predict(ncharTest)\n",
    "results[:,1] = w2v_clf.predict(w2vTest)\n",
    "results[:,2] = pcaras_clf.predict(np.array(pcarasTest).reshape((2200,1)))\n",
    "results[:,3] = bovw_clf.predict(bovwTest)\n"
   ]
  },
  {
   "cell_type": "code",
   "execution_count": null,
   "metadata": {
    "collapsed": true
   },
   "outputs": [],
   "source": [
    "#Aplico votación mayoritaria si la suma por fila <0 --> Hombre sino --> Mujer (Empate mujer)\n",
    "results_procesados = [-1 if val < 0 else 1 for val in list(results.sum(1))] #suma por filas"
   ]
  },
  {
   "cell_type": "code",
   "execution_count": null,
   "metadata": {
    "collapsed": true
   },
   "outputs": [],
   "source": [
    "#Calculo la probabilidad de acertar\n",
    "pacierto = sum([1 if valpredecido == etiqueta else 0 for valpredecido,etiqueta in zip(results_procesados,charetiquetasTest)]) / len(results_procesados)\n",
    "print(pacierto)\n"
   ]
  }
 ],
 "metadata": {
  "kernelspec": {
   "display_name": "Python 3",
   "language": "python",
   "name": "python3"
  },
  "language_info": {
   "codemirror_mode": {
    "name": "ipython",
    "version": 3
   },
   "file_extension": ".py",
   "mimetype": "text/x-python",
   "name": "python",
   "nbconvert_exporter": "python",
   "pygments_lexer": "ipython3",
   "version": "3.6.1"
  }
 },
 "nbformat": 4,
 "nbformat_minor": 2
}
