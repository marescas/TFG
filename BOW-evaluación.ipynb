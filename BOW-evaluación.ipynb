{
 "cells": [
  {
   "cell_type": "code",
   "execution_count": null,
   "metadata": {
    "collapsed": true
   },
   "outputs": [],
   "source": [
    "from sklearn.feature_extraction.text import TfidfVectorizer\n",
    "from nltk.corpus import stopwords\n",
    "import pickle\n",
    "import numpy as np\n",
    "from sklearn.model_selection import cross_val_score\n",
    "from sklearn.linear_model import LogisticRegression\n",
    "from sklearn import svm\n",
    "import math"
   ]
  },
  {
   "cell_type": "code",
   "execution_count": null,
   "metadata": {
    "collapsed": true
   },
   "outputs": [],
   "source": [
    "def openfile(fileName):\n",
    "    \"\"\"\n",
    "    Dado el nombre de un fichero devuelve el corpus preprocesado y las etiquetas\n",
    "    \"\"\"\n",
    "    with open(fileName,\"rb\") as fh:\n",
    "        texto,etiquetas = pickle.load(fh)\n",
    "    return texto,etiquetas"
   ]
  },
  {
   "cell_type": "code",
   "execution_count": null,
   "metadata": {
    "collapsed": true
   },
   "outputs": [],
   "source": [
    "def saveRep(representacion,etiquetas, outputFile):\n",
    "    \"\"\"\n",
    "    Vuelca la representación y las etiquetas en un fichero\n",
    "    \"\"\"\n",
    "    with open(outputFile,\"wb\") as fh:\n",
    "        object = representacion,etiquetas\n",
    "        pickle.dump(object,fh)"
   ]
  },
  {
   "cell_type": "code",
   "execution_count": null,
   "metadata": {
    "collapsed": true
   },
   "outputs": [],
   "source": [
    "def representationBOW(corpus,character=False):\n",
    "    \"\"\"\n",
    "    Dado un corpus de obtiene la representacion  Bag of Words eliminando las stopwords en español\n",
    "    Si max_df o min_df es un real --> proporcion de documentos.\n",
    "    **** En nuestro caso: ignorar aquellos terminos que aparezcan en todos los documentos\n",
    "    Si max_df o min_df es un entero --> Conteo de terminos\n",
    "    **** En nuestro caso: ignorar aquellos terminos que aparezcan en menos de dos documentos\n",
    "    \"\"\"\n",
    "    if character:\n",
    "        vectorizerTrain = TfidfVectorizer(ngram_range = (3,5),max_df=0.95,min_df=2,analyzer=\"char_wb\")\n",
    "    else:\n",
    "        vectorizerTrain = TfidfVectorizer(ngram_range = (1,2),stop_words=stopwords.words(\"spanish\"),max_df=0.95,min_df=2)\n",
    "\n",
    "    bow = vectorizerTrain.fit_transform(corpus)\n",
    "    return bow,vectorizerTrain"
   ]
  },
  {
   "cell_type": "code",
   "execution_count": null,
   "metadata": {},
   "outputs": [],
   "source": [
    "textoTrain, etiquetasTrain = openfile(\"preproceso_train\")\n",
    "textoTest, etiquetasTest = openfile(\"preproceso_test\")\n",
    "print(\"Lectura de ficheros correcta. Documentos de train: %d Documentos de test: %d \" %(len(textoTrain),len(textoTest)))"
   ]
  },
  {
   "cell_type": "code",
   "execution_count": null,
   "metadata": {
    "collapsed": true
   },
   "outputs": [],
   "source": [
    "def intervalo95(p,datos):\n",
    "    \"\"\"\n",
    "    Calcula el intervalo al 95% \n",
    "    :param p: probabilidad de acierto\n",
    "    :param datos: numero de datos del conjunto de test\n",
    "    \"\"\"\n",
    "    e = 1.96*math.sqrt((p*(1-p))/datos)\n",
    "    s = \"[%.3f , %.3f]\" % (p-e,p+e)\n",
    "    return s"
   ]
  },
  {
   "cell_type": "code",
   "execution_count": null,
   "metadata": {
    "collapsed": true
   },
   "outputs": [],
   "source": [
    "def cross_validation(clasificador,xtrain,xlabels,bloques):\n",
    "    scores = cross_val_score(clasificador, xtrain, xlabels, cv=bloques, scoring='f1_macro')\n",
    "    print(\"Accuracy: %0.2f (+/- %0.2f)\" % (scores.mean(), scores.std() * 2))\n",
    "    return scores.mean()"
   ]
  },
  {
   "cell_type": "markdown",
   "metadata": {},
   "source": [
    "# Evaluación de n-gramas"
   ]
  },
  {
   "cell_type": "code",
   "execution_count": null,
   "metadata": {},
   "outputs": [],
   "source": [
    "bowTrain,vectorizerTrain = representationBOW(textoTrain)\n",
    "print(\"Representacion Train OK \")\n",
    "bowTest = vectorizerTrain.transform(textoTest)\n",
    "print(\"Representacion Test OK\")"
   ]
  },
  {
   "cell_type": "code",
   "execution_count": null,
   "metadata": {
    "scrolled": true
   },
   "outputs": [],
   "source": [
    "cs = [1,10,100,1000,10000]\n",
    "kernel= [\"linear\",\"rbf\"]\n",
    "res = \"c \\t \\t k \\t \\t Accuracy \\t \\t Inter95 \\n\"\n",
    "res += \"---------------------SVM--------------------------\\n\"\n",
    "for k in kernel:\n",
    "    for c in cs:\n",
    "        clf = svm.SVC(C = c,kernel=k)\n",
    "        clf.fit(bowTrain,etiquetasTrain)\n",
    "        #media = cross_validation(clf,bowTrainCaracteres,etiquetasTrain,10)\n",
    "        p = clf.score(bowTest,etiquetasTest)\n",
    "        aux = \"%d \\t \\t  %s \\t \\t %.4f \\t \\t %s \\n\" % (c,k[0:3],p, intervalo95(p,len(etiquetasTest)))\n",
    "        print(aux)\n",
    "        res+= aux\n",
    "print(res)"
   ]
  },
  {
   "cell_type": "code",
   "execution_count": null,
   "metadata": {
    "collapsed": true
   },
   "outputs": [],
   "source": [
    "cs = [1,10,100,1000,10000]\n",
    "res = \"c \\t \\t Accuracy \\t \\t Inter95 \\n\"\n",
    "res += \"---------------------Logistic--------------------------\\n\"\n",
    "for c in cs:\n",
    "    clf = LogisticRegression(C=c)\n",
    "    clf.fit(bowTrain,etiquetasTrain)\n",
    "    #media = cross_validation(clf,bowTrainCaracteres,etiquetasTrain,10)\n",
    "    p = clf.score(bowTest,etiquetasTest)\n",
    "    aux = \"%d \\t \\t %.3f \\t \\t %s \\n\" %(c,p,intervalo95(p,len(etiquetasTest)))\n",
    "    print(aux)\n",
    "    res+= aux\n",
    "print(res)"
   ]
  },
  {
   "cell_type": "markdown",
   "metadata": {},
   "source": [
    "# Evaluación Char-ngramas"
   ]
  },
  {
   "cell_type": "code",
   "execution_count": null,
   "metadata": {},
   "outputs": [],
   "source": [
    "bowTrainCaracteres,vectorizerTrainCaracteres = representationBOW(textoTrain, character=True)\n",
    "bowTestCaracteres = vectorizerTrainCaracteres.transform(textoTest)"
   ]
  },
  {
   "cell_type": "code",
   "execution_count": null,
   "metadata": {
    "collapsed": true
   },
   "outputs": [],
   "source": [
    "cs = [1,10,100,1000,10000]\n",
    "kernel= [\"linear\",\"rbf\"]\n",
    "res = \"c \\t \\t k \\t \\t Accuracy \\t \\t Inter95 \\n\"\n",
    "res += \"---------------------SVM--------------------------\\n\"\n",
    "for k in kernel:\n",
    "    for c in cs:\n",
    "        clf = svm.SVC(C = c,kernel=k)\n",
    "        clf.fit(bowTrainCaracteres,etiquetasTrain)\n",
    "        #media = cross_validation(clf,bowTrainCaracteres,etiquetasTrain,10)\n",
    "        p = clf.score(bowTestCaracteres,etiquetasTest)\n",
    "        aux = \"%d \\t \\t  %s \\t \\t %.4f \\t \\t %s \\n\" % (c,k[0:3],p, intervalo95(p,len(etiquetasTest)))\n",
    "        print(aux)\n",
    "        res+= aux\n",
    "print(res)"
   ]
  },
  {
   "cell_type": "code",
   "execution_count": null,
   "metadata": {},
   "outputs": [],
   "source": [
    "cs = [1,10,100,1000,10000]\n",
    "res = \"c \\t \\t Accuracy \\t \\t Inter95 \\n\"\n",
    "res += \"---------------------Logistic--------------------------\\n\"\n",
    "for c in cs:\n",
    "    clf = LogisticRegression(C=c)\n",
    "    clf.fit(bowTrainCaracteres,etiquetasTrain)\n",
    "    #media = cross_validation(clf,bowTrainCaracteres,etiquetasTrain,10)\n",
    "    p = clf.score(bowTestCaracteres,etiquetasTest)\n",
    "    aux = \"%d \\t \\t %.3f \\t \\t %s \\n\" %(c,p,intervalo95(p,len(etiquetasTest)))\n",
    "    print(aux)\n",
    "    res+= aux\n",
    "print(res)"
   ]
  },
  {
   "cell_type": "code",
   "execution_count": null,
   "metadata": {
    "collapsed": true
   },
   "outputs": [],
   "source": [
    "saveRep(bowTrainCaracteres,etiquetasTrain,\"ncharRepTrain\")\n",
    "saveRep(bowTestCaracteres,etiquetasTest,\"ncharRepTest\")"
   ]
  },
  {
   "cell_type": "code",
   "execution_count": null,
   "metadata": {
    "collapsed": true
   },
   "outputs": [],
   "source": []
  }
 ],
 "metadata": {
  "kernelspec": {
   "display_name": "Python 3",
   "language": "python",
   "name": "python3"
  },
  "language_info": {
   "codemirror_mode": {
    "name": "ipython",
    "version": 3
   },
   "file_extension": ".py",
   "mimetype": "text/x-python",
   "name": "python",
   "nbconvert_exporter": "python",
   "pygments_lexer": "ipython3",
   "version": "3.6.1"
  }
 },
 "nbformat": 4,
 "nbformat_minor": 2
}
